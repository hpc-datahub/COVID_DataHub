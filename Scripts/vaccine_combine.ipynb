{
 "cells": [
  {
   "cell_type": "markdown",
   "metadata": {},
   "source": [
    "# Python Code to Combine Cleaned Vaccine Allocation Data and Vaccine Distribution Data"
   ]
  },
  {
   "cell_type": "code",
   "execution_count": null,
   "metadata": {},
   "outputs": [],
   "source": [
    "import pandas as pd"
   ]
  },
  {
   "cell_type": "code",
   "execution_count": null,
   "metadata": {},
   "outputs": [],
   "source": [
    "data_dir = '/Users/xywu/Documents/HPC_datahub/vaccine/'"
   ]
  },
  {
   "cell_type": "code",
   "execution_count": null,
   "metadata": {},
   "outputs": [],
   "source": [
    "## allocation data\n",
    "vaccine_alct = pd.read_csv(data_dir + 'vaccine_allocation.csv', thousands=',')\n",
    "# combine city data into corresponding state\n",
    "states = ['New York', 'Pennsylvania', 'Illinois']\n",
    "cities = ['New York City', 'Philadelphia', 'Chicago']\n",
    "cities_id = [vaccine_alct.index[vaccine_alct['Jurisdiction']==x].\\\n",
    "             tolist()[0] for x in cities]\n",
    "for i in range(len(cities)):\n",
    "    vaccine_alct.iloc[cities_id[i], 0] = states[i]\n",
    "vaccine_alct = vaccine_alct.groupby('Jurisdiction',as_index=False).agg('sum')"
   ]
  },
  {
   "cell_type": "code",
   "execution_count": null,
   "metadata": {},
   "outputs": [],
   "source": [
    "## distribution data\n",
    "vaccine_dist = pd.read_csv(data_dir + 'vaccine_distribution.csv')\n",
    "ny_id = vaccine_dist.index[vaccine_dist['state/territory/federal_entity']==\\\n",
    "                           'New York State'].tolist()[0]\n",
    "vaccine_dist.iloc[ny_id, 0] = 'New York'"
   ]
  },
  {
   "cell_type": "code",
   "execution_count": null,
   "metadata": {},
   "outputs": [],
   "source": [
    "# combine allocation data and distribution\n",
    "df = vaccine_alct.merge(vaccine_dist, how='outer', left_on='Jurisdiction',\\\n",
    "                        right_on='state/territory/federal_entity')"
   ]
  },
  {
   "cell_type": "code",
   "execution_count": null,
   "metadata": {},
   "outputs": [],
   "source": [
    "# drop redundant state-name column\n",
    "df = df.drop('state/territory/federal_entity', axis=1)"
   ]
  },
  {
   "cell_type": "code",
   "execution_count": null,
   "metadata": {},
   "outputs": [],
   "source": [
    "df.to_csv(data_dir + 'vaccine.csv', index=False)"
   ]
  }
 ],
 "metadata": {
  "kernelspec": {
   "display_name": "Python 3",
   "language": "python",
   "name": "python3"
  },
  "language_info": {
   "codemirror_mode": {
    "name": "ipython",
    "version": 3
   },
   "file_extension": ".py",
   "mimetype": "text/x-python",
   "name": "python",
   "nbconvert_exporter": "python",
   "pygments_lexer": "ipython3",
   "version": "3.7.6"
  }
 },
 "nbformat": 4,
 "nbformat_minor": 4
}

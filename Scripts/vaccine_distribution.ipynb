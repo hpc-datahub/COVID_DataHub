{
 "cells": [
  {
   "cell_type": "markdown",
   "metadata": {},
   "source": [
    "# Python Code to Process Vaccine Distribution Data from CDC"
   ]
  },
  {
   "cell_type": "markdown",
   "metadata": {},
   "source": [
    "Raw data is from CDC's vaccine data tracker and daily updated on: \n",
    "https://covid.cdc.gov/covid-data-tracker/#vaccinations"
   ]
  },
  {
   "cell_type": "code",
   "execution_count": null,
   "metadata": {},
   "outputs": [],
   "source": [
    "import os\n",
    "import re\n",
    "import pandas as pd"
   ]
  },
  {
   "cell_type": "code",
   "execution_count": null,
   "metadata": {},
   "outputs": [],
   "source": [
    "# load the previous data and save a backup\n",
    "file_dir = '/Users/xywu/Documents/HPC_datahub/vaccine/'\n",
    "orig_df = pd.read_csv(file_dir + 'vaccine_distribution.csv')\n",
    "orig_df.to_csv(file_dir + 'vaccine_distribution_last_week.csv', index=False)"
   ]
  },
  {
   "cell_type": "code",
   "execution_count": null,
   "metadata": {},
   "outputs": [],
   "source": [
    "# extract target filenames\n",
    "data_dir = file_dir + 'temp_data'\n",
    "file_all = os.listdir(data_dir)\n",
    "\n",
    "# get rid of '.DS_Store' in the folder if any\n",
    "try:\n",
    "    file_all.remove('.DS_Store')\n",
    "except ValueError:\n",
    "    pass\n",
    "\n",
    "# extract dates\n",
    "dts = []\n",
    "for i in range(len(file_all)):\n",
    "    temp_file = file_all[i].split('-')\n",
    "    temp_date = re.sub('\\..*', '', temp_file[1])\n",
    "    dts.append(int(temp_date))\n",
    "dts"
   ]
  },
  {
   "cell_type": "code",
   "execution_count": null,
   "metadata": {},
   "outputs": [],
   "source": [
    "# reorder the filename list\n",
    "dts_order = [dts.index(x) for x in sorted(dts)]\n",
    "file_lst = [file_all[dts_order[x]] for x in range(len(dts_order))]"
   ]
  },
  {
   "cell_type": "code",
   "execution_count": null,
   "metadata": {},
   "outputs": [],
   "source": [
    "# read all data into a list of dataframes\n",
    "df_lst = []\n",
    "for i in range(len(file_lst)):\n",
    "    df_lst.append(pd.read_csv(file_dir + 'temp_data/' + file_lst[i]))"
   ]
  },
  {
   "cell_type": "code",
   "execution_count": null,
   "metadata": {},
   "outputs": [],
   "source": [
    "# rename columns\n",
    "dts = sorted(dts)\n",
    "for i in range(len(dts)):\n",
    "    temp_colnames = [df_lst[i].columns[0]] + [str(dts[i])+'_'+df_lst[i].columns[x] \\\n",
    "                                              for x in range(1, df_lst[0].shape[1])]\n",
    "    df_lst[i].columns = temp_colnames"
   ]
  },
  {
   "cell_type": "code",
   "execution_count": null,
   "metadata": {},
   "outputs": [],
   "source": [
    "# join the seperate dataframes into one dataframe\n",
    "df = df_lst[0]\n",
    "for i in range(1, len(df_lst)):\n",
    "    df = df.merge(right=df_lst[i], on='State/Territory/Federal Entity', how='outer')\n",
    "# check\n",
    "#print(df.shape)\n",
    "#df.columns"
   ]
  },
  {
   "cell_type": "code",
   "execution_count": null,
   "metadata": {},
   "outputs": [],
   "source": [
    "# remove the jurisdictions outside of the 50 continent states\n",
    "\n",
    "# identify the rows outside of the 50 continent states\n",
    "to_rm = ['American Samoa', 'Bureau of Prisons', 'Dept of Defense', \\\n",
    "         'Federated States of Micronesia', 'Guam', 'Indian Health Svc',\\\n",
    "         'Marshall Islands', 'Northern Mariana Islands', 'Puerto Rico',\\\n",
    "         'Republic of Palau', 'Veterans Health', 'Virgin Islands']\n",
    "\n",
    "# remove\n",
    "to_rm_id = [df.index[df['State/Territory/Federal Entity']==x].tolist()[0] for x in to_rm]\n",
    "df = df.drop(to_rm_id,  axis=0)"
   ]
  },
  {
   "cell_type": "code",
   "execution_count": null,
   "metadata": {},
   "outputs": [],
   "source": [
    "# rename df columns\n",
    "col1 = [str.replace(x.lower(), ' ', '_') for x in list(df.columns)]\n",
    "m = re.compile('(\\d+)(.*)')\n",
    "col2 = [m.search(x).group(1) + '_distribution' + m.search(x).group(2) \\\n",
    "            for x in col1[1:]]\n",
    "df.columns = [col1[0]] + col2"
   ]
  },
  {
   "cell_type": "code",
   "execution_count": null,
   "metadata": {},
   "outputs": [],
   "source": [
    "# merge with previous data\n",
    "final = orig_df.merge(right=df, on='state/territory/federal_entity', how='outer')"
   ]
  },
  {
   "cell_type": "code",
   "execution_count": null,
   "metadata": {},
   "outputs": [],
   "source": [
    "# output file\n",
    "final.to_csv(file_dir + '/' + 'vaccine_distribution.csv', index=False)"
   ]
  },
  {
   "cell_type": "code",
   "execution_count": null,
   "metadata": {},
   "outputs": [],
   "source": [
    "# manually inspect\n",
    "final"
   ]
  }
 ],
 "metadata": {
  "kernelspec": {
   "display_name": "Python 3",
   "language": "python",
   "name": "python3"
  },
  "language_info": {
   "codemirror_mode": {
    "name": "ipython",
    "version": 3
   },
   "file_extension": ".py",
   "mimetype": "text/x-python",
   "name": "python",
   "nbconvert_exporter": "python",
   "pygments_lexer": "ipython3",
   "version": "3.7.6"
  }
 },
 "nbformat": 4,
 "nbformat_minor": 4
}

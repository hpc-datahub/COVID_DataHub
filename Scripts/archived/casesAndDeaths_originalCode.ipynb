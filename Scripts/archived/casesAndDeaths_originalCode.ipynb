{
 "cells": [
  {
   "cell_type": "markdown",
   "metadata": {},
   "source": [
    "# Backup for the original method of data collection on cases & deaths data\n",
    "### The following codes are removed from casesAndDeaths.ipynb (to clean up the main code)\n",
    "### Xingyun Wu\n",
    "### Backuped date: 4/11/2022"
   ]
  },
  {
   "cell_type": "markdown",
   "metadata": {},
   "source": [
    "# This is the end of the main code. \n",
    "# The code below is from earlier method."
   ]
  },
  {
   "cell_type": "code",
   "execution_count": null,
   "metadata": {},
   "outputs": [],
   "source": [
    "cols = []\n",
    "for col in cases.columns[1:]:\n",
    "    cols.append(\"confirmed_cases_\" + datetime.strptime(col, \"%m/%d/%y\").strftime('%Y%m%d'))"
   ]
  },
  {
   "cell_type": "code",
   "execution_count": null,
   "metadata": {},
   "outputs": [],
   "source": [
    "for col in cols:\n",
    "    fips[col] = 0"
   ]
  },
  {
   "cell_type": "code",
   "execution_count": null,
   "metadata": {},
   "outputs": [],
   "source": [
    "for i in range(cases.shape[0]):\n",
    "    for col in cols:\n",
    "        fips.loc[(fips[\"fips\"] == cases.iloc[i, 0]), col] = cases.iloc[i, cols.index(col) + 1]"
   ]
  },
  {
   "cell_type": "code",
   "execution_count": null,
   "metadata": {},
   "outputs": [],
   "source": [
    "fips = fips.drop(fips[fips.fips == 0].index)\n",
    "fips = fips.drop(fips[fips.fips == \"unknown\"].index)\n",
    "fips = fips.iloc[0:3142]\n",
    "fips"
   ]
  },
  {
   "cell_type": "code",
   "execution_count": null,
   "metadata": {},
   "outputs": [],
   "source": [
    "fips.to_csv(\"Confirmed_updated_05_07.csv\")"
   ]
  },
  {
   "cell_type": "markdown",
   "metadata": {},
   "source": [
    "# Deaths code"
   ]
  },
  {
   "cell_type": "code",
   "execution_count": null,
   "metadata": {},
   "outputs": [],
   "source": [
    "# importing fips data. and rearranging the columns\n",
    "fips = pd.read_excel(\"fips.xlsx\")\n",
    "fips = fips.iloc[:, [1, 3, 2, 4, 5]]\n",
    "\n",
    "# Convert the 'integers' to integers in fips file.\n",
    "for i in range(fips.shape[0]):\n",
    "    if fips.iloc[i, 4] != 'unknown':\n",
    "        fips.iloc[i, 4] = int(fips.iloc[i, 4])\n",
    "        fips.iloc[i, 2] = int(fips.iloc[i, 2])"
   ]
  },
  {
   "cell_type": "code",
   "execution_count": null,
   "metadata": {},
   "outputs": [],
   "source": [
    "fips = fips.drop(fips[fips.fips == 0].index)\n",
    "fips = fips.drop(fips[fips.fips == \"unknown\"].index)\n",
    "fips\n",
    "fips.head()"
   ]
  },
  {
   "cell_type": "code",
   "execution_count": null,
   "metadata": {},
   "outputs": [],
   "source": [
    "cases = pd.read_csv(\"https://raw.githubusercontent.com/CSSEGISandData/COVID-19/master/csse_covid_19_data/csse_covid_19_time_series/time_series_covid19_deaths_US.csv\")\n",
    "cases.drop(cases.columns[[0,1,2, 3, 5, 6, 7, 8, 9, 10, 11]], axis=1, inplace=True)\n",
    "\n",
    "cases.head()"
   ]
  },
  {
   "cell_type": "code",
   "execution_count": null,
   "metadata": {},
   "outputs": [],
   "source": [
    "cols = []\n",
    "for col in cases.columns[1:]:\n",
    "    cols.append(\"death\" + datetime.strptime(col, \"%m/%d/%y\").strftime('%Y%m%d'))"
   ]
  },
  {
   "cell_type": "code",
   "execution_count": null,
   "metadata": {},
   "outputs": [],
   "source": [
    "for col in cols:\n",
    "    fips[col] = 0"
   ]
  },
  {
   "cell_type": "code",
   "execution_count": null,
   "metadata": {},
   "outputs": [],
   "source": [
    "for i in range(cases.shape[0]):\n",
    "    for col in cols:\n",
    "        fips.loc[(fips[\"fips\"] == cases.iloc[i, 0]), col] = cases.iloc[i, cols.index(col) + 1]"
   ]
  },
  {
   "cell_type": "code",
   "execution_count": null,
   "metadata": {},
   "outputs": [],
   "source": [
    "fips = fips.drop(fips[fips.fips == 0].index)\n",
    "fips = fips.drop(fips[fips.fips == \"unknown\"].index)\n",
    "fips = fips.iloc[0:3142]\n",
    "fips"
   ]
  },
  {
   "cell_type": "code",
   "execution_count": null,
   "metadata": {},
   "outputs": [],
   "source": [
    "fips.to_csv(\"deaths_updated_05_07.csv\")"
   ]
  },
  {
   "cell_type": "code",
   "execution_count": null,
   "metadata": {},
   "outputs": [],
   "source": [
    "cases = pd.read_csv(\"Confirmed_updated_05_07.csv\")\n",
    "cases = cases.iloc[:, 1:]\n",
    "cases"
   ]
  },
  {
   "cell_type": "code",
   "execution_count": null,
   "metadata": {},
   "outputs": [],
   "source": [
    "deaths = pd.read_csv(\"deaths_updated_05_07.csv\")\n",
    "deaths = deaths.iloc[:, 6:]"
   ]
  },
  {
   "cell_type": "code",
   "execution_count": null,
   "metadata": {},
   "outputs": [],
   "source": [
    "merged = pd.concat([cases, deaths], axis=1)\n",
    "merged"
   ]
  },
  {
   "cell_type": "code",
   "execution_count": null,
   "metadata": {},
   "outputs": [],
   "source": [
    "os.chdir(\"..\")\n",
    "merged.to_csv(\"Confirmed cases and deaths.csv\")"
   ]
  }
 ],
 "metadata": {
  "kernelspec": {
   "display_name": "Python 3",
   "language": "python",
   "name": "python3"
  },
  "language_info": {
   "codemirror_mode": {
    "name": "ipython",
    "version": 3
   },
   "file_extension": ".py",
   "mimetype": "text/x-python",
   "name": "python",
   "nbconvert_exporter": "python",
   "pygments_lexer": "ipython3",
   "version": "3.7.6"
  }
 },
 "nbformat": 4,
 "nbformat_minor": 4
}

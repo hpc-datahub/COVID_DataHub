{
 "cells": [
  {
   "cell_type": "markdown",
   "metadata": {},
   "source": [
    "# Python Code to Process Vaccine Allocation-Plan Data from CDC"
   ]
  },
  {
   "cell_type": "markdown",
   "metadata": {},
   "source": [
    "Source of weekly updated raw data:\n",
    "\n",
    "https://data.cdc.gov/Vaccinations/COVID-19-Vaccine-Distribution-Allocations-by-Juris/saz5-9hgg\n",
    "\n",
    "https://data.cdc.gov/Vaccinations/COVID-19-Vaccine-Distribution-Allocations-by-Juris/b7pe-5nws"
   ]
  },
  {
   "cell_type": "code",
   "execution_count": null,
   "metadata": {},
   "outputs": [],
   "source": [
    "import pandas as pd\n",
    "import re"
   ]
  },
  {
   "cell_type": "code",
   "execution_count": null,
   "metadata": {},
   "outputs": [],
   "source": [
    "# read data\n",
    "file_dir = '/Users/xywu/Documents/HPC_datahub/vaccine/COVID-19_Vaccine_Distribution_Allocations_by_Jurisdiction_-_'\n",
    "temp_date = '20210209'\n",
    "pfizer = pd.read_csv(file_dir + 'Pfizer_' + temp_date + '.csv')\n",
    "moderna = pd.read_csv(file_dir + 'Moderna_' + temp_date + '.csv')\n"
   ]
  },
  {
   "cell_type": "code",
   "execution_count": null,
   "metadata": {},
   "outputs": [],
   "source": [
    "# inspect whether the second-dose columns is the same as the first-dose columns\n",
    "#   Pfizer\n",
    "pfizer_dup = []\n",
    "for i in range(1, int(pfizer.shape[1]/2)):\n",
    "    pfizer_dup.append(pfizer.iloc[:, 2*i].equals(pfizer.iloc[:, 2*i+1]))\n",
    "pfizer_dup # the second-dose columns are complete duplicate of the first-dose column"
   ]
  },
  {
   "cell_type": "code",
   "execution_count": null,
   "metadata": {},
   "outputs": [],
   "source": [
    "#   Moderna\n",
    "moderna_dup = []\n",
    "for i in range(1, int(moderna.shape[1]/2)):\n",
    "    moderna_dup.append(moderna.iloc[:, 2*i].equals(moderna.iloc[:, 2*i+1]))\n",
    "moderna_dup # the second-dose columns are complete duplicate of the first-dose column"
   ]
  },
  {
   "cell_type": "code",
   "execution_count": null,
   "metadata": {},
   "outputs": [],
   "source": [
    "# define an auxiliary function to extrace date from a column name\n",
    "def edit_colname(colname, brand):\n",
    "    '''\n",
    "    Parameters\n",
    "        colname: a string of column name\n",
    "\n",
    "    Returns: \n",
    "        rv: a string of vaccine allocation date if it's a data column\n",
    "            none if it's a jurisdiction or region code column\n",
    "    '''\n",
    "    temp_date = re.search('[0-9]{2}\\/[0-9]{2}', colname)\n",
    "    if temp_date == None:\n",
    "        rv = colname\n",
    "    else:\n",
    "        temp_date = temp_date.group(0)\n",
    "        temp_date = str.replace(temp_date, '/', '')\n",
    "        if re.search('[0-9]{2}', temp_date).group(0) == '12':\n",
    "            temp_year = '2020'\n",
    "        else:\n",
    "            temp_year= '2021'\n",
    "        # first dose or second dose\n",
    "        temp_dose = re.search('[Ss]econd', colname)\n",
    "        if temp_dose == None:\n",
    "            temp_dose = 'dose1'\n",
    "        else:\n",
    "            temp_dose = 'dose2'\n",
    "        # whether plan or actual allocation\n",
    "        is_plan = re.search('[Ll]ater', colname)\n",
    "        if is_plan != None:\n",
    "            if brand == 'pfizer':\n",
    "                temp_lag = str(21)\n",
    "            else:\n",
    "                temp_lag = str(28)\n",
    "            temp_sufix = '_' + temp_lag + 'DaysLater'\n",
    "        else:\n",
    "            temp_sufix = ''\n",
    "        rv = temp_year + temp_date + '_allocation_' + brand + '_' + \\\n",
    "                temp_dose + temp_sufix\n",
    "\n",
    "    # return the output\n",
    "    return rv"
   ]
  },
  {
   "cell_type": "code",
   "execution_count": null,
   "metadata": {},
   "outputs": [],
   "source": [
    "# modify column names of dataframe\n",
    "pfizer.columns = [edit_colname(x, 'pfizer') for x in pfizer.columns]\n",
    "pfizer = pfizer.rename(columns = {'Total Pfizer Allocation \"First Dose\" Shipments':'total_pfizer_dose1_shipments',\\\n",
    "                                    'Total Allocation Pfizer \"Second Dose\" Shipments':'total_pfizer_dose2_shipments'})\n",
    "moderna.columns = [edit_colname(x, 'moderna') for x in moderna.columns]\n",
    "moderna = moderna.rename(columns = {'Total Moderna Allocation \"First Dose\" Shipments':'total_moderna_dose1_shipments',\\\n",
    "                                    'Total Allocation Moderna\"Second Dose\" Shipments':'total_moderna_dose2_shipments'})\n"
   ]
  },
  {
   "cell_type": "code",
   "execution_count": null,
   "metadata": {},
   "outputs": [],
   "source": [
    "# merge two dataframes\n",
    "df = pfizer.merge(moderna, left_on=['Jurisdiction', 'HHS Region'], \\\n",
    "                  right_on=['Jurisdiction', 'HHS Region'])\n"
   ]
  },
  {
   "cell_type": "code",
   "execution_count": null,
   "metadata": {},
   "outputs": [],
   "source": [
    "## remove the US territory and federal entities rows\n",
    "to_rm = ['Puerto Rico', 'U.S. Virgin Islands', 'San Antonio ~', 'Houston ~',\\\n",
    "         'American Samoa**', 'Guam**', 'Marshall Islands*', 'Micronesia*', \\\n",
    "         'Mariana Islands**', 'Palau*', 'Federal Entities ****', 'Total']\n",
    "to_rm_id = [df.index[pfizer['Jurisdiction']==x].tolist()[0] for x in to_rm]\n",
    "df['Jurisdiction'][to_rm_id]\n",
    "df = df.drop(to_rm_id, axis=0)\n"
   ]
  },
  {
   "cell_type": "code",
   "execution_count": null,
   "metadata": {},
   "outputs": [],
   "source": [
    "## remove the star marks from the jurisdiction names\n",
    "df['Jurisdiction'] = df['Jurisdiction'].str.replace('[^\\w\\s]', '')"
   ]
  },
  {
   "cell_type": "code",
   "execution_count": null,
   "metadata": {},
   "outputs": [],
   "source": [
    "## output to csv file\n",
    "df.to_csv('/Users/xywu/Documents/HPC_Datahub/vaccine/vaccine_allocation.csv', index=False)\n"
   ]
  }
 ],
 "metadata": {
  "kernelspec": {
   "display_name": "Python 3",
   "language": "python",
   "name": "python3"
  },
  "language_info": {
   "codemirror_mode": {
    "name": "ipython",
    "version": 3
   },
   "file_extension": ".py",
   "mimetype": "text/x-python",
   "name": "python",
   "nbconvert_exporter": "python",
   "pygments_lexer": "ipython3",
   "version": "3.7.6"
  }
 },
 "nbformat": 4,
 "nbformat_minor": 4
}

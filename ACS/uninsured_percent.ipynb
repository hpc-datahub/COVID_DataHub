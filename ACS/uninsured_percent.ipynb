{
 "cells": [
  {
   "cell_type": "code",
   "execution_count": 1,
   "id": "24cf09d4-61c9-4bf0-baa6-29f7541a7872",
   "metadata": {
    "tags": []
   },
   "outputs": [],
   "source": [
    "###### \n",
    "## author: Yifeng Wan, yifengwan@jhu.edu\n",
    "## 2023-03-02\n",
    "##\n",
    "######\n",
    "\n",
    "import numpy as np\n",
    "import pandas as pd\n",
    "import re\n",
    "import os"
   ]
  },
  {
   "cell_type": "code",
   "execution_count": 2,
   "id": "7b806fc8-2a3b-4e72-b044-3e05d9ec08b7",
   "metadata": {
    "tags": []
   },
   "outputs": [],
   "source": [
    "# clean file\n",
    "uninsured_files = {}\n",
    "for year in [2018, 2019, 2020, 2021]:\n",
    "    filename = './acs/acs_uninsured/uninsured_' + str(year) + '_raw.csv'\n",
    "    file = pd.read_csv(filename)\n",
    "    # clear column and dtype to get percent uninsured column\n",
    "    file['Label (Grouping)'] = file['Label (Grouping)'].str.replace('\\xa0', '')\n",
    "    file.iloc[:, 1:] = file.iloc[:, 1:].fillna(method='bfill')\n",
    "    file = file.loc[file['Label (Grouping)']!='Estimate'].copy()\n",
    "    file.iloc[:, 1:] = file.iloc[:, 1:].apply(lambda x: x.str.replace(',', ''), axis=1)\n",
    "    for c in file.columns.tolist()[1:]:\n",
    "        file[c] = file[c].astype(int)\n",
    "    file['uninsured'] = file.iloc[:, 2:].apply(np.sum, axis=1)\n",
    "    uninsured_percent_year = 'uninsured_percent' + str(year)\n",
    "    file[uninsured_percent_year] = file['uninsured'] / file['Total:'] * 100\n",
    "    file[uninsured_percent_year] = file[uninsured_percent_year].round(2)\n",
    "    # split county-state name column, get a county column and a state column\n",
    "    file[['ctyname', 'stname']] = file['Label (Grouping)'].str.split(',', expand = True)\n",
    "    file['stname'] = file['stname'].str.strip()\n",
    "    file['ctyname'] = file['ctyname'].str.strip()\n",
    "    file = file[['stname', 'ctyname', uninsured_percent_year]].copy()\n",
    "    export_name = './acs/acs_uninsured/uninsured_' + str(year) + '_cleaned.csv'\n",
    "    file.to_csv(export_name, index = False)\n",
    "    uninsured_files[str(year)] = file"
   ]
  },
  {
   "cell_type": "code",
   "execution_count": 3,
   "id": "de8067d2-a997-4fa8-b49c-b5a15946840b",
   "metadata": {
    "tags": []
   },
   "outputs": [
    {
     "name": "stdout",
     "output_type": "stream",
     "text": [
      "(3222, 6) Index(['stfips', 'ctyfips', 'stname', 'ctyname', 'scfips',\n",
      "       'uninsured_percent2018'],\n",
      "      dtype='object')\n",
      "(3222, 7) Index(['stfips', 'ctyfips', 'stname', 'ctyname', 'scfips',\n",
      "       'uninsured_percent2018', 'uninsured_percent2019'],\n",
      "      dtype='object')\n",
      "(3222, 8) Index(['stfips', 'ctyfips', 'stname', 'ctyname', 'scfips',\n",
      "       'uninsured_percent2018', 'uninsured_percent2019',\n",
      "       'uninsured_percent2020'],\n",
      "      dtype='object')\n",
      "(3222, 9) Index(['stfips', 'ctyfips', 'stname', 'ctyname', 'scfips',\n",
      "       'uninsured_percent2018', 'uninsured_percent2019',\n",
      "       'uninsured_percent2020', 'uninsured_percent2021'],\n",
      "      dtype='object')\n"
     ]
    }
   ],
   "source": [
    "# merge files into one file, add fips code\n",
    "fips = pd.read_csv('./acs/FIPS/state_county_fips_updated.csv')\n",
    "fips.rename(columns = {'fips': 'scfips'}, inplace = True)\n",
    "\n",
    "# fips + 2018\n",
    "uninsure_all = pd.merge(left = fips, right = uninsured_files['2018'], how = 'outer', \\\n",
    "               on = ['stname', 'ctyname'])\n",
    "print(uninsure_all.shape, uninsure_all.columns)\n",
    "# fips + 2018 + 2019\n",
    "uninsure_all = pd.merge(left = uninsure_all, right = uninsured_files['2019'], how = 'outer', \\\n",
    "               on = ['stname', 'ctyname'])\n",
    "print(uninsure_all.shape, uninsure_all.columns)\n",
    "# fips + 2018 + 2019 + 2020\n",
    "uninsure_all = pd.merge(left = uninsure_all, right = uninsured_files['2020'], how = 'outer', \\\n",
    "               on = ['stname', 'ctyname'])\n",
    "print(uninsure_all.shape, uninsure_all.columns)\n",
    "# fips + 2018 + 2019 + 2020 + 2021\n",
    "uninsure_all = pd.merge(left = uninsure_all, right = uninsured_files['2021'], how = 'outer', \\\n",
    "               on = ['stname', 'ctyname'])\n",
    "print(uninsure_all.shape, uninsure_all.columns)\n",
    "\n",
    "# export to a single csv file\n",
    "uninsure_all.to_csv('./acs/acs_uninsured/uninsured18to21.csv', index = False)"
   ]
  }
 ],
 "metadata": {
  "kernelspec": {
   "display_name": "Python 3.10",
   "language": "python",
   "name": "my310"
  },
  "language_info": {
   "codemirror_mode": {
    "name": "ipython",
    "version": 3
   },
   "file_extension": ".py",
   "mimetype": "text/x-python",
   "name": "python",
   "nbconvert_exporter": "python",
   "pygments_lexer": "ipython3",
   "version": "3.10.8"
  }
 },
 "nbformat": 4,
 "nbformat_minor": 5
}
